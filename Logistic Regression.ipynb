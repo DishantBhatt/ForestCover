{
 "cells": [
  {
   "cell_type": "code",
   "execution_count": 1,
   "metadata": {
    "collapsed": true
   },
   "outputs": [],
   "source": [
    "import numpy as np\n",
    "import pandas as pd\n",
    "import matplotlib.pyplot as plt"
   ]
  },
  {
   "cell_type": "code",
   "execution_count": 2,
   "metadata": {},
   "outputs": [
    {
     "data": {
      "text/html": [
       "<div>\n",
       "<style scoped>\n",
       "    .dataframe tbody tr th:only-of-type {\n",
       "        vertical-align: middle;\n",
       "    }\n",
       "\n",
       "    .dataframe tbody tr th {\n",
       "        vertical-align: top;\n",
       "    }\n",
       "\n",
       "    .dataframe thead th {\n",
       "        text-align: right;\n",
       "    }\n",
       "</style>\n",
       "<table border=\"1\" class=\"dataframe\">\n",
       "  <thead>\n",
       "    <tr style=\"text-align: right;\">\n",
       "      <th></th>\n",
       "      <th>Elevation</th>\n",
       "      <th>Aspect</th>\n",
       "      <th>Slope</th>\n",
       "      <th>Horizontal_Distance_To_Hydrology</th>\n",
       "      <th>Vertical_Distance_To_Hydrology</th>\n",
       "      <th>Horizontal_Distance_To_Roadways</th>\n",
       "      <th>Hillshade_9am</th>\n",
       "      <th>Hillshade_Noon</th>\n",
       "      <th>Hillshade_3pm</th>\n",
       "      <th>Horizontal_Distance_To_Fire_Points</th>\n",
       "      <th>...</th>\n",
       "      <th>Soil_Type32</th>\n",
       "      <th>Soil_Type33</th>\n",
       "      <th>Soil_Type34</th>\n",
       "      <th>Soil_Type35</th>\n",
       "      <th>Soil_Type36</th>\n",
       "      <th>Soil_Type37</th>\n",
       "      <th>Soil_Type38</th>\n",
       "      <th>Soil_Type39</th>\n",
       "      <th>Soil_Type40</th>\n",
       "      <th>Cover_Type</th>\n",
       "    </tr>\n",
       "  </thead>\n",
       "  <tbody>\n",
       "    <tr>\n",
       "      <th>0</th>\n",
       "      <td>2596</td>\n",
       "      <td>51</td>\n",
       "      <td>3</td>\n",
       "      <td>258</td>\n",
       "      <td>0</td>\n",
       "      <td>510</td>\n",
       "      <td>221</td>\n",
       "      <td>232</td>\n",
       "      <td>148</td>\n",
       "      <td>6279</td>\n",
       "      <td>...</td>\n",
       "      <td>0</td>\n",
       "      <td>0</td>\n",
       "      <td>0</td>\n",
       "      <td>0</td>\n",
       "      <td>0</td>\n",
       "      <td>0</td>\n",
       "      <td>0</td>\n",
       "      <td>0</td>\n",
       "      <td>0</td>\n",
       "      <td>5</td>\n",
       "    </tr>\n",
       "    <tr>\n",
       "      <th>1</th>\n",
       "      <td>2590</td>\n",
       "      <td>56</td>\n",
       "      <td>2</td>\n",
       "      <td>212</td>\n",
       "      <td>-6</td>\n",
       "      <td>390</td>\n",
       "      <td>220</td>\n",
       "      <td>235</td>\n",
       "      <td>151</td>\n",
       "      <td>6225</td>\n",
       "      <td>...</td>\n",
       "      <td>0</td>\n",
       "      <td>0</td>\n",
       "      <td>0</td>\n",
       "      <td>0</td>\n",
       "      <td>0</td>\n",
       "      <td>0</td>\n",
       "      <td>0</td>\n",
       "      <td>0</td>\n",
       "      <td>0</td>\n",
       "      <td>5</td>\n",
       "    </tr>\n",
       "    <tr>\n",
       "      <th>2</th>\n",
       "      <td>2804</td>\n",
       "      <td>139</td>\n",
       "      <td>9</td>\n",
       "      <td>268</td>\n",
       "      <td>65</td>\n",
       "      <td>3180</td>\n",
       "      <td>234</td>\n",
       "      <td>238</td>\n",
       "      <td>135</td>\n",
       "      <td>6121</td>\n",
       "      <td>...</td>\n",
       "      <td>0</td>\n",
       "      <td>0</td>\n",
       "      <td>0</td>\n",
       "      <td>0</td>\n",
       "      <td>0</td>\n",
       "      <td>0</td>\n",
       "      <td>0</td>\n",
       "      <td>0</td>\n",
       "      <td>0</td>\n",
       "      <td>2</td>\n",
       "    </tr>\n",
       "    <tr>\n",
       "      <th>3</th>\n",
       "      <td>2785</td>\n",
       "      <td>155</td>\n",
       "      <td>18</td>\n",
       "      <td>242</td>\n",
       "      <td>118</td>\n",
       "      <td>3090</td>\n",
       "      <td>238</td>\n",
       "      <td>238</td>\n",
       "      <td>122</td>\n",
       "      <td>6211</td>\n",
       "      <td>...</td>\n",
       "      <td>0</td>\n",
       "      <td>0</td>\n",
       "      <td>0</td>\n",
       "      <td>0</td>\n",
       "      <td>0</td>\n",
       "      <td>0</td>\n",
       "      <td>0</td>\n",
       "      <td>0</td>\n",
       "      <td>0</td>\n",
       "      <td>2</td>\n",
       "    </tr>\n",
       "    <tr>\n",
       "      <th>4</th>\n",
       "      <td>2595</td>\n",
       "      <td>45</td>\n",
       "      <td>2</td>\n",
       "      <td>153</td>\n",
       "      <td>-1</td>\n",
       "      <td>391</td>\n",
       "      <td>220</td>\n",
       "      <td>234</td>\n",
       "      <td>150</td>\n",
       "      <td>6172</td>\n",
       "      <td>...</td>\n",
       "      <td>0</td>\n",
       "      <td>0</td>\n",
       "      <td>0</td>\n",
       "      <td>0</td>\n",
       "      <td>0</td>\n",
       "      <td>0</td>\n",
       "      <td>0</td>\n",
       "      <td>0</td>\n",
       "      <td>0</td>\n",
       "      <td>5</td>\n",
       "    </tr>\n",
       "  </tbody>\n",
       "</table>\n",
       "<p>5 rows × 55 columns</p>\n",
       "</div>"
      ],
      "text/plain": [
       "   Elevation  Aspect  Slope  Horizontal_Distance_To_Hydrology  \\\n",
       "0       2596      51      3                               258   \n",
       "1       2590      56      2                               212   \n",
       "2       2804     139      9                               268   \n",
       "3       2785     155     18                               242   \n",
       "4       2595      45      2                               153   \n",
       "\n",
       "   Vertical_Distance_To_Hydrology  Horizontal_Distance_To_Roadways  \\\n",
       "0                               0                              510   \n",
       "1                              -6                              390   \n",
       "2                              65                             3180   \n",
       "3                             118                             3090   \n",
       "4                              -1                              391   \n",
       "\n",
       "   Hillshade_9am  Hillshade_Noon  Hillshade_3pm  \\\n",
       "0            221             232            148   \n",
       "1            220             235            151   \n",
       "2            234             238            135   \n",
       "3            238             238            122   \n",
       "4            220             234            150   \n",
       "\n",
       "   Horizontal_Distance_To_Fire_Points     ...      Soil_Type32  Soil_Type33  \\\n",
       "0                                6279     ...                0            0   \n",
       "1                                6225     ...                0            0   \n",
       "2                                6121     ...                0            0   \n",
       "3                                6211     ...                0            0   \n",
       "4                                6172     ...                0            0   \n",
       "\n",
       "   Soil_Type34  Soil_Type35  Soil_Type36  Soil_Type37  Soil_Type38  \\\n",
       "0            0            0            0            0            0   \n",
       "1            0            0            0            0            0   \n",
       "2            0            0            0            0            0   \n",
       "3            0            0            0            0            0   \n",
       "4            0            0            0            0            0   \n",
       "\n",
       "   Soil_Type39  Soil_Type40  Cover_Type  \n",
       "0            0            0           5  \n",
       "1            0            0           5  \n",
       "2            0            0           2  \n",
       "3            0            0           2  \n",
       "4            0            0           5  \n",
       "\n",
       "[5 rows x 55 columns]"
      ]
     },
     "execution_count": 2,
     "metadata": {},
     "output_type": "execute_result"
    }
   ],
   "source": [
    "# Read and print the data\n",
    "\n",
    "df = pd.read_csv('covtype.csv')\n",
    "df.head()"
   ]
  },
  {
   "cell_type": "code",
   "execution_count": 3,
   "metadata": {},
   "outputs": [
    {
     "data": {
      "text/html": [
       "<div>\n",
       "<style scoped>\n",
       "    .dataframe tbody tr th:only-of-type {\n",
       "        vertical-align: middle;\n",
       "    }\n",
       "\n",
       "    .dataframe tbody tr th {\n",
       "        vertical-align: top;\n",
       "    }\n",
       "\n",
       "    .dataframe thead th {\n",
       "        text-align: right;\n",
       "    }\n",
       "</style>\n",
       "<table border=\"1\" class=\"dataframe\">\n",
       "  <thead>\n",
       "    <tr style=\"text-align: right;\">\n",
       "      <th></th>\n",
       "      <th>Elevation</th>\n",
       "      <th>Aspect</th>\n",
       "      <th>Slope</th>\n",
       "      <th>Horizontal_Distance_To_Hydrology</th>\n",
       "      <th>Vertical_Distance_To_Hydrology</th>\n",
       "      <th>Horizontal_Distance_To_Roadways</th>\n",
       "      <th>Hillshade_9am</th>\n",
       "      <th>Hillshade_Noon</th>\n",
       "      <th>Hillshade_3pm</th>\n",
       "      <th>Horizontal_Distance_To_Fire_Points</th>\n",
       "      <th>...</th>\n",
       "      <th>Soil_Type31</th>\n",
       "      <th>Soil_Type32</th>\n",
       "      <th>Soil_Type33</th>\n",
       "      <th>Soil_Type34</th>\n",
       "      <th>Soil_Type35</th>\n",
       "      <th>Soil_Type36</th>\n",
       "      <th>Soil_Type37</th>\n",
       "      <th>Soil_Type38</th>\n",
       "      <th>Soil_Type39</th>\n",
       "      <th>Soil_Type40</th>\n",
       "    </tr>\n",
       "  </thead>\n",
       "  <tbody>\n",
       "    <tr>\n",
       "      <th>381393</th>\n",
       "      <td>3364</td>\n",
       "      <td>306</td>\n",
       "      <td>16</td>\n",
       "      <td>750</td>\n",
       "      <td>114</td>\n",
       "      <td>993</td>\n",
       "      <td>174</td>\n",
       "      <td>229</td>\n",
       "      <td>195</td>\n",
       "      <td>2112</td>\n",
       "      <td>...</td>\n",
       "      <td>0</td>\n",
       "      <td>1</td>\n",
       "      <td>0</td>\n",
       "      <td>0</td>\n",
       "      <td>0</td>\n",
       "      <td>0</td>\n",
       "      <td>0</td>\n",
       "      <td>0</td>\n",
       "      <td>0</td>\n",
       "      <td>0</td>\n",
       "    </tr>\n",
       "    <tr>\n",
       "      <th>196020</th>\n",
       "      <td>3279</td>\n",
       "      <td>229</td>\n",
       "      <td>5</td>\n",
       "      <td>430</td>\n",
       "      <td>53</td>\n",
       "      <td>5545</td>\n",
       "      <td>212</td>\n",
       "      <td>245</td>\n",
       "      <td>170</td>\n",
       "      <td>1471</td>\n",
       "      <td>...</td>\n",
       "      <td>0</td>\n",
       "      <td>0</td>\n",
       "      <td>0</td>\n",
       "      <td>0</td>\n",
       "      <td>0</td>\n",
       "      <td>0</td>\n",
       "      <td>0</td>\n",
       "      <td>0</td>\n",
       "      <td>0</td>\n",
       "      <td>0</td>\n",
       "    </tr>\n",
       "    <tr>\n",
       "      <th>524079</th>\n",
       "      <td>3226</td>\n",
       "      <td>321</td>\n",
       "      <td>19</td>\n",
       "      <td>323</td>\n",
       "      <td>99</td>\n",
       "      <td>1892</td>\n",
       "      <td>169</td>\n",
       "      <td>218</td>\n",
       "      <td>188</td>\n",
       "      <td>1989</td>\n",
       "      <td>...</td>\n",
       "      <td>0</td>\n",
       "      <td>0</td>\n",
       "      <td>1</td>\n",
       "      <td>0</td>\n",
       "      <td>0</td>\n",
       "      <td>0</td>\n",
       "      <td>0</td>\n",
       "      <td>0</td>\n",
       "      <td>0</td>\n",
       "      <td>0</td>\n",
       "    </tr>\n",
       "    <tr>\n",
       "      <th>258533</th>\n",
       "      <td>2031</td>\n",
       "      <td>65</td>\n",
       "      <td>27</td>\n",
       "      <td>210</td>\n",
       "      <td>22</td>\n",
       "      <td>242</td>\n",
       "      <td>233</td>\n",
       "      <td>174</td>\n",
       "      <td>55</td>\n",
       "      <td>242</td>\n",
       "      <td>...</td>\n",
       "      <td>0</td>\n",
       "      <td>0</td>\n",
       "      <td>0</td>\n",
       "      <td>0</td>\n",
       "      <td>0</td>\n",
       "      <td>0</td>\n",
       "      <td>0</td>\n",
       "      <td>0</td>\n",
       "      <td>0</td>\n",
       "      <td>0</td>\n",
       "    </tr>\n",
       "    <tr>\n",
       "      <th>255059</th>\n",
       "      <td>3326</td>\n",
       "      <td>226</td>\n",
       "      <td>17</td>\n",
       "      <td>700</td>\n",
       "      <td>104</td>\n",
       "      <td>3560</td>\n",
       "      <td>195</td>\n",
       "      <td>254</td>\n",
       "      <td>192</td>\n",
       "      <td>2568</td>\n",
       "      <td>...</td>\n",
       "      <td>0</td>\n",
       "      <td>0</td>\n",
       "      <td>0</td>\n",
       "      <td>0</td>\n",
       "      <td>0</td>\n",
       "      <td>0</td>\n",
       "      <td>0</td>\n",
       "      <td>0</td>\n",
       "      <td>0</td>\n",
       "      <td>0</td>\n",
       "    </tr>\n",
       "  </tbody>\n",
       "</table>\n",
       "<p>5 rows × 54 columns</p>\n",
       "</div>"
      ],
      "text/plain": [
       "        Elevation  Aspect  Slope  Horizontal_Distance_To_Hydrology  \\\n",
       "381393       3364     306     16                               750   \n",
       "196020       3279     229      5                               430   \n",
       "524079       3226     321     19                               323   \n",
       "258533       2031      65     27                               210   \n",
       "255059       3326     226     17                               700   \n",
       "\n",
       "        Vertical_Distance_To_Hydrology  Horizontal_Distance_To_Roadways  \\\n",
       "381393                             114                              993   \n",
       "196020                              53                             5545   \n",
       "524079                              99                             1892   \n",
       "258533                              22                              242   \n",
       "255059                             104                             3560   \n",
       "\n",
       "        Hillshade_9am  Hillshade_Noon  Hillshade_3pm  \\\n",
       "381393            174             229            195   \n",
       "196020            212             245            170   \n",
       "524079            169             218            188   \n",
       "258533            233             174             55   \n",
       "255059            195             254            192   \n",
       "\n",
       "        Horizontal_Distance_To_Fire_Points     ...       Soil_Type31  \\\n",
       "381393                                2112     ...                 0   \n",
       "196020                                1471     ...                 0   \n",
       "524079                                1989     ...                 0   \n",
       "258533                                 242     ...                 0   \n",
       "255059                                2568     ...                 0   \n",
       "\n",
       "        Soil_Type32  Soil_Type33  Soil_Type34  Soil_Type35  Soil_Type36  \\\n",
       "381393            1            0            0            0            0   \n",
       "196020            0            0            0            0            0   \n",
       "524079            0            1            0            0            0   \n",
       "258533            0            0            0            0            0   \n",
       "255059            0            0            0            0            0   \n",
       "\n",
       "        Soil_Type37  Soil_Type38  Soil_Type39  Soil_Type40  \n",
       "381393            0            0            0            0  \n",
       "196020            0            0            0            0  \n",
       "524079            0            0            0            0  \n",
       "258533            0            0            0            0  \n",
       "255059            0            0            0            0  \n",
       "\n",
       "[5 rows x 54 columns]"
      ]
     },
     "execution_count": 3,
     "metadata": {},
     "output_type": "execute_result"
    }
   ],
   "source": [
    "# Split data into training and testing groups\n",
    "\n",
    "from sklearn.model_selection import train_test_split\n",
    "features = df[df.columns[0:len(df.columns)-1]]\n",
    "labels = df[df.columns[len(df.columns)-1]]\n",
    "X_train, X_test, Y_train, Y_test = train_test_split(features, labels,\n",
    "    test_size=0.30)\n",
    "X_train.head()"
   ]
  },
  {
   "cell_type": "code",
   "execution_count": 4,
   "metadata": {
    "collapsed": true
   },
   "outputs": [],
   "source": [
    "#Standardize the data\n",
    "\n",
    "from sklearn import preprocessing\n",
    "'''\n",
    "std_scale = preprocessing.StandardScaler().fit(X_train)\n",
    "X_train_std = std_scale.transform(X_train)\n",
    "X_test_std = std_scale.transform(X_test)\n",
    "X_train_std\n",
    "'''\n",
    "#Standardize the data\n",
    "\n",
    "from sklearn import preprocessing\n",
    "\n",
    "data_to_standardize_train = X_train[X_train.columns[0:10]]\n",
    "data_to_standardize_test = X_test[X_test.columns[0:10]]\n",
    "std_scale = preprocessing.MinMaxScaler().fit(data_to_standardize_train)\n",
    "X_train_std = std_scale.transform(data_to_standardize_train)\n",
    "X_test_std = std_scale.transform(data_to_standardize_test)\n",
    "X_train_std = np.concatenate([X_train_std, X_train[X_train.columns[10:]]], axis = 1)\n",
    "X_test_std = np.concatenate([X_test_std, X_test[X_test.columns[10:]]], axis = 1)"
   ]
  },
  {
   "cell_type": "code",
   "execution_count": 5,
   "metadata": {},
   "outputs": [
    {
     "name": "stdout",
     "output_type": "stream",
     "text": [
      "--- 76.64589524269104 seconds ---\n"
     ]
    }
   ],
   "source": [
    "# Learn\n",
    "from sklearn.linear_model import LogisticRegression\n",
    "import time\n",
    "time_start = time.time()\n",
    "clf = LogisticRegression(solver=\"sag\", max_iter= 400)\n",
    "clf.fit(X_train_std, Y_train)  \n",
    "print(\"--- %s seconds ---\" % (time.time() - time_start))\n"
   ]
  },
  {
   "cell_type": "code",
   "execution_count": 6,
   "metadata": {},
   "outputs": [
    {
     "data": {
      "text/plain": [
       "0.036258490912428859"
      ]
     },
     "execution_count": 6,
     "metadata": {},
     "output_type": "execute_result"
    }
   ],
   "source": [
    "clf.score(X_test, Y_test)"
   ]
  },
  {
   "cell_type": "code",
   "execution_count": 7,
   "metadata": {},
   "outputs": [
    {
     "name": "stdout",
     "output_type": "stream",
     "text": [
      "[[44005 18320    60     0     7     0  1238]\n",
      " [14978 67376  1946     1   107   137   103]\n",
      " [    0  1175  9245    97     0   231     0]\n",
      " [    0     0   539   192     0    96     0]\n",
      " [   42  2534   243     0    43     1     0]\n",
      " [    0  1900  3009    17     9   333     0]\n",
      " [ 2917    36    24     0     0     0  3343]]\n"
     ]
    }
   ],
   "source": [
    "from sklearn.metrics import confusion_matrix, classification_report\n",
    "y_pred = clf.predict(X_test_std)\n",
    "conf_mat = confusion_matrix(Y_test,y_pred)\n",
    "print(confusion_matrix(Y_test, y_pred))"
   ]
  },
  {
   "cell_type": "code",
   "execution_count": 8,
   "metadata": {},
   "outputs": [
    {
     "name": "stdout",
     "output_type": "stream",
     "text": [
      "             precision    recall  f1-score   support\n",
      "\n",
      "          1       0.71      0.69      0.70     63630\n",
      "          2       0.74      0.80      0.77     84648\n",
      "          3       0.61      0.86      0.72     10748\n",
      "          4       0.63      0.23      0.34       827\n",
      "          5       0.26      0.02      0.03      2863\n",
      "          6       0.42      0.06      0.11      5268\n",
      "          7       0.71      0.53      0.61      6320\n",
      "\n",
      "avg / total       0.70      0.71      0.70    174304\n",
      "\n"
     ]
    }
   ],
   "source": [
    "print(classification_report(Y_test, y_pred))"
   ]
  },
  {
   "cell_type": "code",
   "execution_count": 9,
   "metadata": {
    "collapsed": true
   },
   "outputs": [],
   "source": [
    "df_nocorr = df.drop(['Hillshade_3pm', 'Horizontal_Distance_To_Hydrology','Wilderness_Area1', 'Slope'], axis = 1)\n",
    "features = df_nocorr[df_nocorr.columns[0:len(df_nocorr.columns)-1]]\n",
    "labels = df_nocorr[df_nocorr.columns[len(df_nocorr.columns)-1]]\n",
    "X_train, X_test, Y_train, Y_test = train_test_split(features, labels,\n",
    "    test_size=0.30)"
   ]
  },
  {
   "cell_type": "code",
   "execution_count": 10,
   "metadata": {
    "collapsed": true
   },
   "outputs": [],
   "source": [
    "data_to_standardize_train = X_train[X_train.columns[0:10]]\n",
    "data_to_standardize_test = X_test[X_test.columns[0:10]]\n",
    "std_scale = preprocessing.MinMaxScaler().fit(data_to_standardize_train)\n",
    "X_train_std = std_scale.transform(data_to_standardize_train)\n",
    "X_test_std = std_scale.transform(data_to_standardize_test)\n",
    "X_train_std = np.concatenate([X_train_std, X_train[X_train.columns[10:]]], axis = 1)\n",
    "X_test_std = np.concatenate([X_test_std, X_test[X_test.columns[10:]]], axis = 1)"
   ]
  },
  {
   "cell_type": "code",
   "execution_count": 11,
   "metadata": {},
   "outputs": [
    {
     "name": "stdout",
     "output_type": "stream",
     "text": [
      "--- 83.12053799629211 seconds ---\n"
     ]
    }
   ],
   "source": [
    "time_start = time.time()\n",
    "clf = LogisticRegression(solver=\"sag\", max_iter= 400)\n",
    "clf.fit(X_train_std, Y_train)  \n",
    "print(\"--- %s seconds ---\" % (time.time() - time_start))"
   ]
  },
  {
   "cell_type": "code",
   "execution_count": 12,
   "metadata": {},
   "outputs": [
    {
     "name": "stdout",
     "output_type": "stream",
     "text": [
      "[[43286 18987    55     0     4     0  1347]\n",
      " [15239 67571  2116     2    74    41   106]\n",
      " [    0  1105  9141    76     2   157     0]\n",
      " [    0     0   592   167     0    60     0]\n",
      " [   28  2514   263     0    26     0     0]\n",
      " [    0  1798  3183    16     4   211     0]\n",
      " [ 2794    32    29     0     0     0  3278]]\n"
     ]
    }
   ],
   "source": [
    "y_pred = clf.predict(X_test_std)\n",
    "print(confusion_matrix(Y_test, y_pred))"
   ]
  },
  {
   "cell_type": "code",
   "execution_count": 13,
   "metadata": {},
   "outputs": [
    {
     "name": "stdout",
     "output_type": "stream",
     "text": [
      "             precision    recall  f1-score   support\n",
      "\n",
      "          1       0.71      0.68      0.69     63679\n",
      "          2       0.73      0.79      0.76     85149\n",
      "          3       0.59      0.87      0.71     10481\n",
      "          4       0.64      0.20      0.31       819\n",
      "          5       0.24      0.01      0.02      2831\n",
      "          6       0.45      0.04      0.07      5212\n",
      "          7       0.69      0.53      0.60      6133\n",
      "\n",
      "avg / total       0.70      0.71      0.69    174304\n",
      "\n"
     ]
    }
   ],
   "source": [
    "print(classification_report(Y_test, y_pred))"
   ]
  },
  {
   "cell_type": "code",
   "execution_count": 14,
   "metadata": {},
   "outputs": [
    {
     "data": {
      "text/plain": [
       "0.035185652652836422"
      ]
     },
     "execution_count": 14,
     "metadata": {},
     "output_type": "execute_result"
    }
   ],
   "source": [
    "clf.score(X_test, Y_test)"
   ]
  },
  {
   "cell_type": "code",
   "execution_count": 19,
   "metadata": {},
   "outputs": [
    {
     "data": {
      "image/png": "[encoded data removed]",
      "text/plain": [
       "<matplotlib.figure.Figure at 0x222a18c6e80>"
      ]
     },
     "metadata": {},
     "output_type": "display_data"
    }
   ],
   "source": [
    "import seaborn as sns\n",
    "%matplotlib inline\n",
    "df_cm = pd.DataFrame(conf_mat)\n",
    "plt.figure(figsize = (15,10))\n",
    "plt.title('Logistic Regression Classification Results (Using MinMaxScaler)')\n",
    "sns.set(font_scale =1.4)\n",
    "sns.heatmap(df_cm, annot = True, fmt = 'g', cmap = 'YlOrRd')\n",
    "plt.savefig('lr.jpeg')"
   ]
  },
  {
   "cell_type": "code",
   "execution_count": null,
   "metadata": {
    "collapsed": true
   },
   "outputs": [],
   "source": []
  }
 ],
 "metadata": {
  "kernelspec": {
   "display_name": "Python 3",
   "language": "python",
   "name": "python3"
  },
  "language_info": {
   "codemirror_mode": {
    "name": "ipython",
    "version": 3
   },
   "file_extension": ".py",
   "mimetype": "text/x-python",
   "name": "python",
   "nbconvert_exporter": "python",
   "pygments_lexer": "ipython3",
   "version": "3.6.2"
  }
 },
 "nbformat": 4,
 "nbformat_minor": 2
}
